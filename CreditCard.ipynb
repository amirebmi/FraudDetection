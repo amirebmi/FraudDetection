{
 "cells": [
  {
   "cell_type": "markdown",
   "metadata": {
    "id": "RQviDOVx-qSw"
   },
   "source": [
    "# KNN"
   ]
  },
  {
   "cell_type": "code",
   "execution_count": 1,
   "metadata": {
    "id": "SGQN0JgY-qSw"
   },
   "outputs": [],
   "source": [
    "# Import the required libraries\n",
    "from sklearn.neighbors import KNeighborsClassifier\n",
    "from sklearn.model_selection import train_test_split\n",
    "from sklearn.metrics import accuracy_score\n",
    "import numpy as np\n",
    "import pandas as pd"
   ]
  },
  {
   "cell_type": "code",
   "execution_count": null,
   "metadata": {
    "id": "BVwASUZTJErm"
   },
   "outputs": [],
   "source": []
  },
  {
   "cell_type": "code",
   "execution_count": 2,
   "metadata": {
    "id": "t67bVGt8-qSw"
   },
   "outputs": [],
   "source": [
    "\n",
    "from sklearn.utils import resample\n",
    "\n",
    "# Reading a data from local CSV file\n",
    "df = pd.read_csv('creditcard.csv')\n",
    "\n",
    "one = df.loc[df['Class'] == 1]\n",
    "zero = df.loc[df['Class'] == 0]\n",
    "zero_res = resample(zero, n_samples=len(one), replace=False, random_state=5)\n",
    "frame = [one,zero_res]\n",
    "credit_df = pd.concat(frame)"
   ]
  },
  {
   "cell_type": "code",
   "execution_count": 3,
   "metadata": {
    "id": "zddRwcZz-qSx"
   },
   "outputs": [],
   "source": [
    "# Specify the features\n",
    "feature_columns = ['V1','V2','V3','V4','V5','V6','V7','V8','V9','V10','V11','V12','V13','V14','V15','V16','V17','V18','V19','V20','V21','V22','V23','V24','V25','V26','V27','V28', 'Amount']"
   ]
  },
  {
   "cell_type": "code",
   "execution_count": 4,
   "metadata": {
    "id": "CYpR8t_U-qSx"
   },
   "outputs": [],
   "source": [
    "#credit_df.describe()"
   ]
  },
  {
   "cell_type": "code",
   "execution_count": 5,
   "metadata": {
    "id": "4IU00hJh-qSx"
   },
   "outputs": [
    {
     "data": {
      "text/plain": [
       "541       1\n",
       "623       1\n",
       "4920      1\n",
       "6108      1\n",
       "6329      1\n",
       "         ..\n",
       "148275    0\n",
       "140392    0\n",
       "201464    0\n",
       "70112     0\n",
       "57038     0\n",
       "Name: Class, Length: 984, dtype: int64"
      ]
     },
     "execution_count": 5,
     "metadata": {},
     "output_type": "execute_result"
    }
   ],
   "source": [
    "X = credit_df[feature_columns]\n",
    "y = credit_df['Class']\n",
    "\n",
    "y"
   ]
  },
  {
   "cell_type": "code",
   "execution_count": 6,
   "metadata": {
    "id": "B5AkYwNH-qSx"
   },
   "outputs": [],
   "source": [
    "# Specifiyng the k nearest neighbor\n",
    "k = 3\n",
    "\n",
    "knn = KNeighborsClassifier(n_neighbors=k)"
   ]
  },
  {
   "cell_type": "markdown",
   "metadata": {
    "id": "STKqUebB-qSx"
   },
   "source": [
    "### Splitting the data into Training set and Testing Set"
   ]
  },
  {
   "cell_type": "code",
   "execution_count": 7,
   "metadata": {
    "id": "7Nbg54zr-qSx"
   },
   "outputs": [],
   "source": [
    "# Split the dataset randomly into two new datasets (Training Set & Testing Set)\n",
    "# We use 20% of the data for testing set and the rest 80% for training set\n",
    "\n",
    "X_train, X_test, y_train, y_test = train_test_split(X, y, test_size=0.2, random_state=1)"
   ]
  },
  {
   "cell_type": "code",
   "execution_count": 8,
   "metadata": {
    "colab": {
     "base_uri": "https://localhost:8080/",
     "height": 439
    },
    "id": "orMjlmmT-qSx",
    "outputId": "9f130995-9286-4920-e242-9398ea82511d"
   },
   "outputs": [
    {
     "data": {
      "text/html": [
       "<div>\n",
       "<style scoped>\n",
       "    .dataframe tbody tr th:only-of-type {\n",
       "        vertical-align: middle;\n",
       "    }\n",
       "\n",
       "    .dataframe tbody tr th {\n",
       "        vertical-align: top;\n",
       "    }\n",
       "\n",
       "    .dataframe thead th {\n",
       "        text-align: right;\n",
       "    }\n",
       "</style>\n",
       "<table border=\"1\" class=\"dataframe\">\n",
       "  <thead>\n",
       "    <tr style=\"text-align: right;\">\n",
       "      <th></th>\n",
       "      <th>V1</th>\n",
       "      <th>V2</th>\n",
       "      <th>V3</th>\n",
       "      <th>V4</th>\n",
       "      <th>V5</th>\n",
       "      <th>V6</th>\n",
       "      <th>V7</th>\n",
       "      <th>V8</th>\n",
       "      <th>V9</th>\n",
       "      <th>V10</th>\n",
       "      <th>...</th>\n",
       "      <th>V20</th>\n",
       "      <th>V21</th>\n",
       "      <th>V22</th>\n",
       "      <th>V23</th>\n",
       "      <th>V24</th>\n",
       "      <th>V25</th>\n",
       "      <th>V26</th>\n",
       "      <th>V27</th>\n",
       "      <th>V28</th>\n",
       "      <th>Amount</th>\n",
       "    </tr>\n",
       "  </thead>\n",
       "  <tbody>\n",
       "    <tr>\n",
       "      <th>541</th>\n",
       "      <td>-2.312227</td>\n",
       "      <td>1.951992</td>\n",
       "      <td>-1.609851</td>\n",
       "      <td>3.997906</td>\n",
       "      <td>-0.522188</td>\n",
       "      <td>-1.426545</td>\n",
       "      <td>-2.537387</td>\n",
       "      <td>1.391657</td>\n",
       "      <td>-2.770089</td>\n",
       "      <td>-2.772272</td>\n",
       "      <td>...</td>\n",
       "      <td>0.126911</td>\n",
       "      <td>0.517232</td>\n",
       "      <td>-0.035049</td>\n",
       "      <td>-0.465211</td>\n",
       "      <td>0.320198</td>\n",
       "      <td>0.044519</td>\n",
       "      <td>0.177840</td>\n",
       "      <td>0.261145</td>\n",
       "      <td>-0.143276</td>\n",
       "      <td>0.00</td>\n",
       "    </tr>\n",
       "    <tr>\n",
       "      <th>623</th>\n",
       "      <td>-3.043541</td>\n",
       "      <td>-3.157307</td>\n",
       "      <td>1.088463</td>\n",
       "      <td>2.288644</td>\n",
       "      <td>1.359805</td>\n",
       "      <td>-1.064823</td>\n",
       "      <td>0.325574</td>\n",
       "      <td>-0.067794</td>\n",
       "      <td>-0.270953</td>\n",
       "      <td>-0.838587</td>\n",
       "      <td>...</td>\n",
       "      <td>2.102339</td>\n",
       "      <td>0.661696</td>\n",
       "      <td>0.435477</td>\n",
       "      <td>1.375966</td>\n",
       "      <td>-0.293803</td>\n",
       "      <td>0.279798</td>\n",
       "      <td>-0.145362</td>\n",
       "      <td>-0.252773</td>\n",
       "      <td>0.035764</td>\n",
       "      <td>529.00</td>\n",
       "    </tr>\n",
       "    <tr>\n",
       "      <th>4920</th>\n",
       "      <td>-2.303350</td>\n",
       "      <td>1.759247</td>\n",
       "      <td>-0.359745</td>\n",
       "      <td>2.330243</td>\n",
       "      <td>-0.821628</td>\n",
       "      <td>-0.075788</td>\n",
       "      <td>0.562320</td>\n",
       "      <td>-0.399147</td>\n",
       "      <td>-0.238253</td>\n",
       "      <td>-1.525412</td>\n",
       "      <td>...</td>\n",
       "      <td>-0.430022</td>\n",
       "      <td>-0.294166</td>\n",
       "      <td>-0.932391</td>\n",
       "      <td>0.172726</td>\n",
       "      <td>-0.087330</td>\n",
       "      <td>-0.156114</td>\n",
       "      <td>-0.542628</td>\n",
       "      <td>0.039566</td>\n",
       "      <td>-0.153029</td>\n",
       "      <td>239.93</td>\n",
       "    </tr>\n",
       "    <tr>\n",
       "      <th>6108</th>\n",
       "      <td>-4.397974</td>\n",
       "      <td>1.358367</td>\n",
       "      <td>-2.592844</td>\n",
       "      <td>2.679787</td>\n",
       "      <td>-1.128131</td>\n",
       "      <td>-1.706536</td>\n",
       "      <td>-3.496197</td>\n",
       "      <td>-0.248778</td>\n",
       "      <td>-0.247768</td>\n",
       "      <td>-4.801637</td>\n",
       "      <td>...</td>\n",
       "      <td>-0.171608</td>\n",
       "      <td>0.573574</td>\n",
       "      <td>0.176968</td>\n",
       "      <td>-0.436207</td>\n",
       "      <td>-0.053502</td>\n",
       "      <td>0.252405</td>\n",
       "      <td>-0.657488</td>\n",
       "      <td>-0.827136</td>\n",
       "      <td>0.849573</td>\n",
       "      <td>59.00</td>\n",
       "    </tr>\n",
       "    <tr>\n",
       "      <th>6329</th>\n",
       "      <td>1.234235</td>\n",
       "      <td>3.019740</td>\n",
       "      <td>-4.304597</td>\n",
       "      <td>4.732795</td>\n",
       "      <td>3.624201</td>\n",
       "      <td>-1.357746</td>\n",
       "      <td>1.713445</td>\n",
       "      <td>-0.496358</td>\n",
       "      <td>-1.282858</td>\n",
       "      <td>-2.447469</td>\n",
       "      <td>...</td>\n",
       "      <td>0.009061</td>\n",
       "      <td>-0.379068</td>\n",
       "      <td>-0.704181</td>\n",
       "      <td>-0.656805</td>\n",
       "      <td>-1.632653</td>\n",
       "      <td>1.488901</td>\n",
       "      <td>0.566797</td>\n",
       "      <td>-0.010016</td>\n",
       "      <td>0.146793</td>\n",
       "      <td>1.00</td>\n",
       "    </tr>\n",
       "    <tr>\n",
       "      <th>...</th>\n",
       "      <td>...</td>\n",
       "      <td>...</td>\n",
       "      <td>...</td>\n",
       "      <td>...</td>\n",
       "      <td>...</td>\n",
       "      <td>...</td>\n",
       "      <td>...</td>\n",
       "      <td>...</td>\n",
       "      <td>...</td>\n",
       "      <td>...</td>\n",
       "      <td>...</td>\n",
       "      <td>...</td>\n",
       "      <td>...</td>\n",
       "      <td>...</td>\n",
       "      <td>...</td>\n",
       "      <td>...</td>\n",
       "      <td>...</td>\n",
       "      <td>...</td>\n",
       "      <td>...</td>\n",
       "      <td>...</td>\n",
       "      <td>...</td>\n",
       "    </tr>\n",
       "    <tr>\n",
       "      <th>148275</th>\n",
       "      <td>2.001070</td>\n",
       "      <td>-0.038246</td>\n",
       "      <td>-0.694090</td>\n",
       "      <td>0.627328</td>\n",
       "      <td>-0.596297</td>\n",
       "      <td>-1.729928</td>\n",
       "      <td>0.188653</td>\n",
       "      <td>-0.380298</td>\n",
       "      <td>0.511534</td>\n",
       "      <td>0.078439</td>\n",
       "      <td>...</td>\n",
       "      <td>-0.268307</td>\n",
       "      <td>-0.233505</td>\n",
       "      <td>-0.551079</td>\n",
       "      <td>0.453779</td>\n",
       "      <td>0.925411</td>\n",
       "      <td>-0.424076</td>\n",
       "      <td>0.141384</td>\n",
       "      <td>-0.070733</td>\n",
       "      <td>-0.051486</td>\n",
       "      <td>0.89</td>\n",
       "    </tr>\n",
       "    <tr>\n",
       "      <th>140392</th>\n",
       "      <td>-0.761966</td>\n",
       "      <td>1.357584</td>\n",
       "      <td>-0.012880</td>\n",
       "      <td>0.956207</td>\n",
       "      <td>0.260489</td>\n",
       "      <td>-0.909392</td>\n",
       "      <td>0.757665</td>\n",
       "      <td>-0.108708</td>\n",
       "      <td>-0.316155</td>\n",
       "      <td>0.597339</td>\n",
       "      <td>...</td>\n",
       "      <td>-0.137919</td>\n",
       "      <td>0.221923</td>\n",
       "      <td>0.828093</td>\n",
       "      <td>0.250191</td>\n",
       "      <td>0.417185</td>\n",
       "      <td>-0.830824</td>\n",
       "      <td>-0.479034</td>\n",
       "      <td>-0.386264</td>\n",
       "      <td>0.005194</td>\n",
       "      <td>3.76</td>\n",
       "    </tr>\n",
       "    <tr>\n",
       "      <th>201464</th>\n",
       "      <td>-1.294730</td>\n",
       "      <td>1.910609</td>\n",
       "      <td>-1.501656</td>\n",
       "      <td>-1.449619</td>\n",
       "      <td>0.851056</td>\n",
       "      <td>-1.285031</td>\n",
       "      <td>1.342695</td>\n",
       "      <td>-0.046790</td>\n",
       "      <td>0.317833</td>\n",
       "      <td>1.043396</td>\n",
       "      <td>...</td>\n",
       "      <td>0.330102</td>\n",
       "      <td>0.159120</td>\n",
       "      <td>0.848950</td>\n",
       "      <td>-0.208414</td>\n",
       "      <td>-0.386661</td>\n",
       "      <td>-0.150712</td>\n",
       "      <td>0.076926</td>\n",
       "      <td>0.380644</td>\n",
       "      <td>0.214541</td>\n",
       "      <td>3.78</td>\n",
       "    </tr>\n",
       "    <tr>\n",
       "      <th>70112</th>\n",
       "      <td>-8.639861</td>\n",
       "      <td>-7.230895</td>\n",
       "      <td>0.628405</td>\n",
       "      <td>1.577939</td>\n",
       "      <td>2.483319</td>\n",
       "      <td>-1.974031</td>\n",
       "      <td>1.021502</td>\n",
       "      <td>-2.678088</td>\n",
       "      <td>2.173468</td>\n",
       "      <td>1.407395</td>\n",
       "      <td>...</td>\n",
       "      <td>-6.929628</td>\n",
       "      <td>-1.734174</td>\n",
       "      <td>0.801580</td>\n",
       "      <td>3.488946</td>\n",
       "      <td>0.627638</td>\n",
       "      <td>1.370061</td>\n",
       "      <td>0.602821</td>\n",
       "      <td>1.168051</td>\n",
       "      <td>-0.640708</td>\n",
       "      <td>237.90</td>\n",
       "    </tr>\n",
       "    <tr>\n",
       "      <th>57038</th>\n",
       "      <td>1.081958</td>\n",
       "      <td>0.061963</td>\n",
       "      <td>0.767651</td>\n",
       "      <td>1.365744</td>\n",
       "      <td>-0.520316</td>\n",
       "      <td>-0.267284</td>\n",
       "      <td>-0.074759</td>\n",
       "      <td>0.030942</td>\n",
       "      <td>0.465343</td>\n",
       "      <td>-0.220349</td>\n",
       "      <td>...</td>\n",
       "      <td>-0.150707</td>\n",
       "      <td>-0.192413</td>\n",
       "      <td>-0.399643</td>\n",
       "      <td>0.077124</td>\n",
       "      <td>0.392952</td>\n",
       "      <td>0.393360</td>\n",
       "      <td>-0.519298</td>\n",
       "      <td>0.050269</td>\n",
       "      <td>0.031275</td>\n",
       "      <td>31.96</td>\n",
       "    </tr>\n",
       "  </tbody>\n",
       "</table>\n",
       "<p>984 rows × 29 columns</p>\n",
       "</div>"
      ],
      "text/plain": [
       "              V1        V2        V3        V4        V5        V6        V7  \\\n",
       "541    -2.312227  1.951992 -1.609851  3.997906 -0.522188 -1.426545 -2.537387   \n",
       "623    -3.043541 -3.157307  1.088463  2.288644  1.359805 -1.064823  0.325574   \n",
       "4920   -2.303350  1.759247 -0.359745  2.330243 -0.821628 -0.075788  0.562320   \n",
       "6108   -4.397974  1.358367 -2.592844  2.679787 -1.128131 -1.706536 -3.496197   \n",
       "6329    1.234235  3.019740 -4.304597  4.732795  3.624201 -1.357746  1.713445   \n",
       "...          ...       ...       ...       ...       ...       ...       ...   \n",
       "148275  2.001070 -0.038246 -0.694090  0.627328 -0.596297 -1.729928  0.188653   \n",
       "140392 -0.761966  1.357584 -0.012880  0.956207  0.260489 -0.909392  0.757665   \n",
       "201464 -1.294730  1.910609 -1.501656 -1.449619  0.851056 -1.285031  1.342695   \n",
       "70112  -8.639861 -7.230895  0.628405  1.577939  2.483319 -1.974031  1.021502   \n",
       "57038   1.081958  0.061963  0.767651  1.365744 -0.520316 -0.267284 -0.074759   \n",
       "\n",
       "              V8        V9       V10  ...       V20       V21       V22  \\\n",
       "541     1.391657 -2.770089 -2.772272  ...  0.126911  0.517232 -0.035049   \n",
       "623    -0.067794 -0.270953 -0.838587  ...  2.102339  0.661696  0.435477   \n",
       "4920   -0.399147 -0.238253 -1.525412  ... -0.430022 -0.294166 -0.932391   \n",
       "6108   -0.248778 -0.247768 -4.801637  ... -0.171608  0.573574  0.176968   \n",
       "6329   -0.496358 -1.282858 -2.447469  ...  0.009061 -0.379068 -0.704181   \n",
       "...          ...       ...       ...  ...       ...       ...       ...   \n",
       "148275 -0.380298  0.511534  0.078439  ... -0.268307 -0.233505 -0.551079   \n",
       "140392 -0.108708 -0.316155  0.597339  ... -0.137919  0.221923  0.828093   \n",
       "201464 -0.046790  0.317833  1.043396  ...  0.330102  0.159120  0.848950   \n",
       "70112  -2.678088  2.173468  1.407395  ... -6.929628 -1.734174  0.801580   \n",
       "57038   0.030942  0.465343 -0.220349  ... -0.150707 -0.192413 -0.399643   \n",
       "\n",
       "             V23       V24       V25       V26       V27       V28  Amount  \n",
       "541    -0.465211  0.320198  0.044519  0.177840  0.261145 -0.143276    0.00  \n",
       "623     1.375966 -0.293803  0.279798 -0.145362 -0.252773  0.035764  529.00  \n",
       "4920    0.172726 -0.087330 -0.156114 -0.542628  0.039566 -0.153029  239.93  \n",
       "6108   -0.436207 -0.053502  0.252405 -0.657488 -0.827136  0.849573   59.00  \n",
       "6329   -0.656805 -1.632653  1.488901  0.566797 -0.010016  0.146793    1.00  \n",
       "...          ...       ...       ...       ...       ...       ...     ...  \n",
       "148275  0.453779  0.925411 -0.424076  0.141384 -0.070733 -0.051486    0.89  \n",
       "140392  0.250191  0.417185 -0.830824 -0.479034 -0.386264  0.005194    3.76  \n",
       "201464 -0.208414 -0.386661 -0.150712  0.076926  0.380644  0.214541    3.78  \n",
       "70112   3.488946  0.627638  1.370061  0.602821  1.168051 -0.640708  237.90  \n",
       "57038   0.077124  0.392952  0.393360 -0.519298  0.050269  0.031275   31.96  \n",
       "\n",
       "[984 rows x 29 columns]"
      ]
     },
     "execution_count": 8,
     "metadata": {},
     "output_type": "execute_result"
    }
   ],
   "source": [
    "X"
   ]
  },
  {
   "cell_type": "code",
   "execution_count": 9,
   "metadata": {
    "colab": {
     "base_uri": "https://localhost:8080/"
    },
    "id": "Dcg3mTA6-qSy",
    "outputId": "a0d24d93-e109-45ea-e697-3a9d432b21c1"
   },
   "outputs": [
    {
     "name": "stdout",
     "output_type": "stream",
     "text": [
      "              V1        V2        V3        V4        V5        V6        V7  \\\n",
      "224275  1.757259 -0.023838  0.944493  3.773188 -0.820666  0.855771 -1.165241   \n",
      "107637 -2.271755 -0.457655 -2.589055  2.230778 -4.278983  0.388610  0.102485   \n",
      "275992 -2.027135 -1.131890 -1.135194  1.086963 -0.010547  0.423797  3.790880   \n",
      "27234   0.968323 -0.277971  0.636679  0.770756 -0.038823  1.277333 -0.460520   \n",
      "169606  2.068391 -0.886484 -2.641213 -2.533639  1.914430  3.037311 -0.768790   \n",
      "...          ...       ...       ...       ...       ...       ...       ...   \n",
      "44897  -4.219445 -5.719209  1.008431  1.029213  3.856309 -3.124816 -2.281512   \n",
      "243449  1.983655 -0.320772 -0.383010  0.396314 -0.414916 -0.136939 -0.553552   \n",
      "123141 -6.616293  3.563428 -7.058901  4.284346 -5.096299 -1.768618 -4.937554   \n",
      "154668 -1.929597  4.066413 -4.865184  5.898602 -0.552493 -1.555962 -3.833623   \n",
      "124036 -0.715414  0.608590  1.155501 -0.267565 -0.563748 -0.618898  0.698308   \n",
      "\n",
      "              V8        V9       V10  ...       V20       V21       V22  \\\n",
      "224275  0.483432 -0.100729  1.532903  ... -0.300175  0.281617  0.811455   \n",
      "107637  0.813128 -1.092921 -5.032028  ...  2.285758  1.096342  0.658399   \n",
      "275992 -1.155595 -0.063434  1.334414  ...  0.033804 -0.315105  0.575520   \n",
      "27234   0.484928  0.602143 -0.419345  ... -0.226229  0.045454  0.470373   \n",
      "169606  0.767516  1.744070 -0.878384  ... -0.112178  0.105001  0.457470   \n",
      "...          ...       ...       ...  ...       ...       ...       ...   \n",
      "44897   0.558249  0.534580 -0.238838  ...  1.717067  0.745412  0.125273   \n",
      "243449 -0.049022  1.239795 -0.216943  ... -0.090259  0.203506  0.870203   \n",
      "123141  2.748460 -3.796760 -6.825490  ... -0.541634  1.215976  0.041178   \n",
      "154668  0.679512 -3.463765 -6.683689  ...  0.942489  1.137212  0.674245   \n",
      "124036  0.069837 -0.133341 -1.025335  ... -0.186978  0.130749  0.239389   \n",
      "\n",
      "             V23       V24       V25       V26       V27       V28  Amount  \n",
      "224275  0.275421 -0.041433 -0.586655 -0.045673  0.041143 -0.027230   12.13  \n",
      "107637  1.711676  0.333540  0.538591 -0.193529  0.258194  0.247269  824.83  \n",
      "275992  0.490842  0.756502 -0.142685 -0.602777  0.508712 -0.091646  634.30  \n",
      "27234   0.079520 -0.566808  0.182178  0.516828  0.053467  0.004703   29.56  \n",
      "169606  0.112396  0.756986  0.124701 -0.122255  0.018787 -0.060859   13.85  \n",
      "...          ...       ...       ...       ...       ...       ...     ...  \n",
      "44897   1.720198 -0.044298 -0.805250  0.120419 -0.100309  0.339419  297.90  \n",
      "243449  0.128861  0.797002 -0.023620 -0.251549  0.045643 -0.026051   12.99  \n",
      "123141 -1.059098  0.275662  0.057425 -0.265838 -0.514637  0.388590  254.76  \n",
      "154668 -0.531765 -0.433409  0.378659  0.198107  0.869694  0.228048    0.00  \n",
      "124036 -0.090227  0.411572 -0.216126  0.353896 -0.062361  0.008433  129.00  \n",
      "\n",
      "[197 rows x 29 columns]\n",
      "224275    0\n",
      "107637    1\n",
      "275992    1\n",
      "27234     0\n",
      "169606    0\n",
      "         ..\n",
      "44897     0\n",
      "243449    0\n",
      "123141    1\n",
      "154668    1\n",
      "124036    1\n",
      "Name: Class, Length: 197, dtype: int64\n"
     ]
    }
   ],
   "source": [
    "# print the size of the testing set\n",
    "print(X_test)\n",
    "print(y_test)"
   ]
  },
  {
   "cell_type": "markdown",
   "metadata": {
    "id": "VLMwM9Ld-qSy"
   },
   "source": [
    "### Training Stage"
   ]
  },
  {
   "cell_type": "code",
   "execution_count": 10,
   "metadata": {
    "colab": {
     "base_uri": "https://localhost:8080/"
    },
    "id": "7HyWBbiN-qSy",
    "outputId": "b0e23449-8fd6-4812-e9e8-d787c25a29d5"
   },
   "outputs": [
    {
     "data": {
      "text/plain": [
       "KNeighborsClassifier(n_neighbors=3)"
      ]
     },
     "execution_count": 10,
     "metadata": {},
     "output_type": "execute_result"
    }
   ],
   "source": [
    "# X_train --> 80% of [V1, V2, V3, .... V28, Amount] which are training set (features)\n",
    "# y_train --> Class (0 for non-fraudulent & 1 for fraudulent transactions)\n",
    "knn.fit(X_train,y_train)"
   ]
  },
  {
   "cell_type": "markdown",
   "metadata": {
    "id": "qZBmQzfM-qSz"
   },
   "source": [
    "### Testing Stage"
   ]
  },
  {
   "cell_type": "code",
   "execution_count": 11,
   "metadata": {
    "colab": {
     "base_uri": "https://localhost:8080/"
    },
    "id": "A3LWVxDK-qSz",
    "outputId": "7d7de1e2-e883-4f60-a681-b45bfec5badf"
   },
   "outputs": [
    {
     "name": "stdout",
     "output_type": "stream",
     "text": [
      "[0 1 1 0 0 0 1 0 0 0 0 1 0 1 0 0 1 0 0 0 0 0 0 1 1 1 1 0 0 1 0 0 0 1 0 1 0\n",
      " 0 0 1 1 0 1 0 1 1 1 0 1 0 1 1 1 0 1 1 0 1 0 0 0 0 0 0 0 1 1 0 0 0 0 1 1 1\n",
      " 1 0 1 1 1 1 0 0 1 1 1 0 1 0 0 0 0 1 0 0 1 1 1 0 1 0 1 0 0 1 1 1 1 0 1 0 0\n",
      " 1 1 0 1 1 1 1 1 0 1 0 1 0 0 0 1 0 0 0 1 1 1 1 1 0 0 1 1 1 0 1 0 1 0 0 0 0\n",
      " 0 1 1 1 0 1 0 1 1 1 1 0 0 0 0 0 0 0 0 1 0 1 1 0 1 1 1 0 1 1 0 0 0 1 1 0 0\n",
      " 0 0 0 0 1 0 0 1 0 1 1 0]\n"
     ]
    }
   ],
   "source": [
    "# Make prediction on Testing Set\n",
    "# Use testing features to predict testing labels based on the training model\n",
    "# y_predicted is the predicted labels\n",
    "y_predicted = knn.predict(X_test) \n",
    "print(y_predicted)"
   ]
  },
  {
   "cell_type": "markdown",
   "metadata": {
    "id": "aRQ7Okvn-qSz"
   },
   "source": [
    "### Comparing Actual labels of testing set to Predicted labels for evaluaction"
   ]
  },
  {
   "cell_type": "code",
   "execution_count": 12,
   "metadata": {
    "colab": {
     "base_uri": "https://localhost:8080/"
    },
    "id": "05F7Jl4N-qSz",
    "outputId": "1d152188-34cd-4284-9ae8-579993a7dc22"
   },
   "outputs": [
    {
     "name": "stdout",
     "output_type": "stream",
     "text": [
      "0.9086294416243654\n"
     ]
    }
   ],
   "source": [
    "# Compare actual labels of testing set to predicted label\n",
    "accuracy = accuracy_score(y_test, y_predicted)\n",
    "print(accuracy)"
   ]
  },
  {
   "cell_type": "code",
   "execution_count": 13,
   "metadata": {
    "colab": {
     "base_uri": "https://localhost:8080/"
    },
    "id": "ZwH0YNtb-qSz",
    "outputId": "c009d7de-c2b7-43d5-a9c3-833de2522f12"
   },
   "outputs": [
    {
     "name": "stdout",
     "output_type": "stream",
     "text": [
      "        actual  prediction\n",
      "224275       0           0\n",
      "107637       1           1\n",
      "275992       1           1\n",
      "27234        0           0\n",
      "169606       0           0\n",
      "...        ...         ...\n",
      "44897        0           1\n",
      "243449       0           0\n",
      "123141       1           1\n",
      "154668       1           1\n",
      "124036       1           0\n",
      "\n",
      "[197 rows x 2 columns]\n"
     ]
    }
   ],
   "source": [
    "# Check the mistakes\n",
    "results = pd.DataFrame()\n",
    "\n",
    "results['actual'] = y_test\n",
    "results['prediction'] = y_predicted\n",
    "\n",
    "print(results)"
   ]
  },
  {
   "cell_type": "markdown",
   "metadata": {
    "id": "ukaVph4Kh0kJ"
   },
   "source": [
    "### Cross Validation for KNN"
   ]
  },
  {
   "cell_type": "code",
   "execution_count": 14,
   "metadata": {
    "id": "7BJtMZyhiNjm"
   },
   "outputs": [],
   "source": [
    "# import Cross Validation method\n",
    "from sklearn.model_selection import cross_val_score"
   ]
  },
  {
   "cell_type": "code",
   "execution_count": 15,
   "metadata": {
    "id": "dJeN63_riUQ8"
   },
   "outputs": [],
   "source": [
    "KNN_accuracy_list = cross_val_score(knn, X, y, cv=10, scoring='accuracy')"
   ]
  },
  {
   "cell_type": "code",
   "execution_count": 16,
   "metadata": {
    "colab": {
     "base_uri": "https://localhost:8080/"
    },
    "id": "ZXuy5V8Xiq8V",
    "outputId": "c2526a83-8615-47de-a215-9bdf69242e7a"
   },
   "outputs": [
    {
     "name": "stdout",
     "output_type": "stream",
     "text": [
      "0.8993918779633064\n"
     ]
    }
   ],
   "source": [
    "KNN_Accuracy = KNN_accuracy_list.mean()\n",
    "print(KNN_Accuracy)"
   ]
  },
  {
   "cell_type": "markdown",
   "metadata": {
    "id": "gHVcufz0-qSz"
   },
   "source": [
    "# Decision Tree Classifier"
   ]
  },
  {
   "cell_type": "code",
   "execution_count": 17,
   "metadata": {
    "id": "853JiN-r-qSz"
   },
   "outputs": [],
   "source": [
    "from sklearn.tree import DecisionTreeClassifier"
   ]
  },
  {
   "cell_type": "code",
   "execution_count": 18,
   "metadata": {
    "id": "GBUWUNRM-qSz"
   },
   "outputs": [],
   "source": [
    "my_decisiontree = DecisionTreeClassifier()"
   ]
  },
  {
   "cell_type": "code",
   "execution_count": 19,
   "metadata": {
    "colab": {
     "base_uri": "https://localhost:8080/"
    },
    "id": "sWdqJTjO-qSz",
    "outputId": "2930cec9-b37a-4195-8a3c-0fe1c3ebeb02"
   },
   "outputs": [
    {
     "data": {
      "text/plain": [
       "DecisionTreeClassifier()"
      ]
     },
     "execution_count": 19,
     "metadata": {},
     "output_type": "execute_result"
    }
   ],
   "source": [
    "# training \n",
    "my_decisiontree.fit(X_train, y_train)"
   ]
  },
  {
   "cell_type": "code",
   "execution_count": 20,
   "metadata": {
    "colab": {
     "base_uri": "https://localhost:8080/"
    },
    "id": "dsN8h6gB-qSz",
    "outputId": "f3691702-7eea-4ee0-c8e5-8f7d3f8c83cf"
   },
   "outputs": [
    {
     "name": "stdout",
     "output_type": "stream",
     "text": [
      "[0 1 0 0 0 0 1 0 0 0 0 1 0 1 0 0 1 0 0 0 0 1 1 0 1 1 1 1 1 0 0 0 0 1 0 1 1\n",
      " 0 0 1 1 0 1 0 1 0 1 0 1 1 1 1 1 0 0 1 0 1 0 0 0 0 0 0 0 1 1 0 0 0 0 1 1 1\n",
      " 1 0 0 1 1 1 0 0 1 1 1 0 1 0 0 0 0 1 0 0 1 1 1 0 1 0 1 1 0 1 1 1 1 0 1 0 0\n",
      " 1 1 0 1 1 1 1 1 0 1 0 1 0 0 0 1 0 0 1 1 1 1 1 1 0 0 1 1 1 0 1 0 1 0 0 0 0\n",
      " 0 1 1 1 1 1 1 1 1 1 1 0 0 0 0 1 0 0 0 1 0 1 1 0 0 0 1 0 1 1 0 0 0 1 1 0 0\n",
      " 0 0 0 0 1 1 0 0 0 1 1 0]\n"
     ]
    }
   ],
   "source": [
    "y_predict = my_decisiontree.predict(X_test)\n",
    "\n",
    "print(y_predict)"
   ]
  },
  {
   "cell_type": "code",
   "execution_count": 21,
   "metadata": {
    "id": "grC_2Jiq-qSz"
   },
   "outputs": [],
   "source": [
    "from sklearn.metrics import accuracy_score"
   ]
  },
  {
   "cell_type": "markdown",
   "metadata": {
    "id": "oHvhNAivjmvA"
   },
   "source": [
    "#### Decision Tree Classifier accuracy (Splitting Data)"
   ]
  },
  {
   "cell_type": "code",
   "execution_count": 22,
   "metadata": {
    "colab": {
     "base_uri": "https://localhost:8080/"
    },
    "id": "1tli4FDq-qSz",
    "outputId": "37e026b5-790c-40ae-a6d4-1ae150a1cc25"
   },
   "outputs": [
    {
     "name": "stdout",
     "output_type": "stream",
     "text": [
      "0.9137055837563451\n"
     ]
    }
   ],
   "source": [
    "accuracy = accuracy_score(y_test, y_predict)\n",
    "\n",
    "print(accuracy)"
   ]
  },
  {
   "cell_type": "markdown",
   "metadata": {
    "id": "8T57t2a_i8uP"
   },
   "source": [
    "### Cross Validation for Decision Tree Classifier"
   ]
  },
  {
   "cell_type": "code",
   "execution_count": 23,
   "metadata": {
    "id": "qnDPdDZYjCMi"
   },
   "outputs": [],
   "source": [
    "DT_accuracy_list = cross_val_score(my_decisiontree, X, y, cv=10, scoring='accuracy')"
   ]
  },
  {
   "cell_type": "code",
   "execution_count": 24,
   "metadata": {
    "id": "VH-V9-5ejHVy"
   },
   "outputs": [],
   "source": [
    "DT_Accuracy = DT_accuracy_list.mean()"
   ]
  },
  {
   "cell_type": "code",
   "execution_count": 25,
   "metadata": {
    "colab": {
     "base_uri": "https://localhost:8080/"
    },
    "id": "X7X50VS4jVNj",
    "outputId": "51623513-8b1c-4f57-b2db-c69be9b0ed74"
   },
   "outputs": [
    {
     "name": "stdout",
     "output_type": "stream",
     "text": [
      "0.8952999381570809\n"
     ]
    }
   ],
   "source": [
    "print(DT_Accuracy)"
   ]
  },
  {
   "cell_type": "markdown",
   "metadata": {
    "id": "Wrs0i8Dd-qSz"
   },
   "source": [
    "# Logistic Regression"
   ]
  },
  {
   "cell_type": "code",
   "execution_count": 26,
   "metadata": {
    "id": "V5-kmYuE-qS0"
   },
   "outputs": [],
   "source": [
    "from sklearn.linear_model import LogisticRegression"
   ]
  },
  {
   "cell_type": "code",
   "execution_count": 27,
   "metadata": {
    "colab": {
     "base_uri": "https://localhost:8080/"
    },
    "id": "-AMVQX9e-qS0",
    "outputId": "3455792f-87af-4e2d-9e07-5c79210e67cc"
   },
   "outputs": [
    {
     "name": "stderr",
     "output_type": "stream",
     "text": [
      "C:\\ProgramData\\Anaconda3\\lib\\site-packages\\sklearn\\linear_model\\_logistic.py:762: ConvergenceWarning: lbfgs failed to converge (status=1):\n",
      "STOP: TOTAL NO. of ITERATIONS REACHED LIMIT.\n",
      "\n",
      "Increase the number of iterations (max_iter) or scale the data as shown in:\n",
      "    https://scikit-learn.org/stable/modules/preprocessing.html\n",
      "Please also refer to the documentation for alternative solver options:\n",
      "    https://scikit-learn.org/stable/modules/linear_model.html#logistic-regression\n",
      "  n_iter_i = _check_optimize_result(\n"
     ]
    },
    {
     "data": {
      "text/plain": [
       "LogisticRegression()"
      ]
     },
     "execution_count": 27,
     "metadata": {},
     "output_type": "execute_result"
    }
   ],
   "source": [
    "my_logistic_regression = LogisticRegression()\n",
    "\n",
    "# training stage of the logistic regression\n",
    "my_logistic_regression.fit(X_train, y_train)"
   ]
  },
  {
   "cell_type": "code",
   "execution_count": 28,
   "metadata": {
    "id": "2Dxtp9bU-qS0"
   },
   "outputs": [],
   "source": [
    "# Get the prediction on testing set (Predicted labels) Logistic Regression\n",
    "y_predict_LR = my_logistic_regression.predict(X_test)"
   ]
  },
  {
   "cell_type": "code",
   "execution_count": 29,
   "metadata": {
    "colab": {
     "base_uri": "https://localhost:8080/"
    },
    "id": "e8ML8dzF-qS0",
    "outputId": "2f792994-d625-46c8-f930-2d60ffcb409f"
   },
   "outputs": [
    {
     "name": "stdout",
     "output_type": "stream",
     "text": [
      "0.934010152284264\n"
     ]
    }
   ],
   "source": [
    "LR_accuracy = accuracy_score(y_test, y_predict_LR)\n",
    "\n",
    "#Logistic Regression acuuracy\n",
    "print(LR_accuracy)"
   ]
  },
  {
   "cell_type": "markdown",
   "metadata": {
    "id": "0lUK45Lwjvbw"
   },
   "source": [
    "### Cross Validation for Logistic Regression"
   ]
  },
  {
   "cell_type": "code",
   "execution_count": 30,
   "metadata": {
    "colab": {
     "base_uri": "https://localhost:8080/"
    },
    "id": "KjiuQCfOj01e",
    "outputId": "e761cd1a-68b0-4ef9-8ea2-be63acd8e48b"
   },
   "outputs": [
    {
     "name": "stderr",
     "output_type": "stream",
     "text": [
      "C:\\ProgramData\\Anaconda3\\lib\\site-packages\\sklearn\\linear_model\\_logistic.py:762: ConvergenceWarning: lbfgs failed to converge (status=1):\n",
      "STOP: TOTAL NO. of ITERATIONS REACHED LIMIT.\n",
      "\n",
      "Increase the number of iterations (max_iter) or scale the data as shown in:\n",
      "    https://scikit-learn.org/stable/modules/preprocessing.html\n",
      "Please also refer to the documentation for alternative solver options:\n",
      "    https://scikit-learn.org/stable/modules/linear_model.html#logistic-regression\n",
      "  n_iter_i = _check_optimize_result(\n",
      "C:\\ProgramData\\Anaconda3\\lib\\site-packages\\sklearn\\linear_model\\_logistic.py:762: ConvergenceWarning: lbfgs failed to converge (status=1):\n",
      "STOP: TOTAL NO. of ITERATIONS REACHED LIMIT.\n",
      "\n",
      "Increase the number of iterations (max_iter) or scale the data as shown in:\n",
      "    https://scikit-learn.org/stable/modules/preprocessing.html\n",
      "Please also refer to the documentation for alternative solver options:\n",
      "    https://scikit-learn.org/stable/modules/linear_model.html#logistic-regression\n",
      "  n_iter_i = _check_optimize_result(\n",
      "C:\\ProgramData\\Anaconda3\\lib\\site-packages\\sklearn\\linear_model\\_logistic.py:762: ConvergenceWarning: lbfgs failed to converge (status=1):\n",
      "STOP: TOTAL NO. of ITERATIONS REACHED LIMIT.\n",
      "\n",
      "Increase the number of iterations (max_iter) or scale the data as shown in:\n",
      "    https://scikit-learn.org/stable/modules/preprocessing.html\n",
      "Please also refer to the documentation for alternative solver options:\n",
      "    https://scikit-learn.org/stable/modules/linear_model.html#logistic-regression\n",
      "  n_iter_i = _check_optimize_result(\n",
      "C:\\ProgramData\\Anaconda3\\lib\\site-packages\\sklearn\\linear_model\\_logistic.py:762: ConvergenceWarning: lbfgs failed to converge (status=1):\n",
      "STOP: TOTAL NO. of ITERATIONS REACHED LIMIT.\n",
      "\n",
      "Increase the number of iterations (max_iter) or scale the data as shown in:\n",
      "    https://scikit-learn.org/stable/modules/preprocessing.html\n",
      "Please also refer to the documentation for alternative solver options:\n",
      "    https://scikit-learn.org/stable/modules/linear_model.html#logistic-regression\n",
      "  n_iter_i = _check_optimize_result(\n",
      "C:\\ProgramData\\Anaconda3\\lib\\site-packages\\sklearn\\linear_model\\_logistic.py:762: ConvergenceWarning: lbfgs failed to converge (status=1):\n",
      "STOP: TOTAL NO. of ITERATIONS REACHED LIMIT.\n",
      "\n",
      "Increase the number of iterations (max_iter) or scale the data as shown in:\n",
      "    https://scikit-learn.org/stable/modules/preprocessing.html\n",
      "Please also refer to the documentation for alternative solver options:\n",
      "    https://scikit-learn.org/stable/modules/linear_model.html#logistic-regression\n",
      "  n_iter_i = _check_optimize_result(\n",
      "C:\\ProgramData\\Anaconda3\\lib\\site-packages\\sklearn\\linear_model\\_logistic.py:762: ConvergenceWarning: lbfgs failed to converge (status=1):\n",
      "STOP: TOTAL NO. of ITERATIONS REACHED LIMIT.\n",
      "\n",
      "Increase the number of iterations (max_iter) or scale the data as shown in:\n",
      "    https://scikit-learn.org/stable/modules/preprocessing.html\n",
      "Please also refer to the documentation for alternative solver options:\n",
      "    https://scikit-learn.org/stable/modules/linear_model.html#logistic-regression\n",
      "  n_iter_i = _check_optimize_result(\n",
      "C:\\ProgramData\\Anaconda3\\lib\\site-packages\\sklearn\\linear_model\\_logistic.py:762: ConvergenceWarning: lbfgs failed to converge (status=1):\n",
      "STOP: TOTAL NO. of ITERATIONS REACHED LIMIT.\n",
      "\n",
      "Increase the number of iterations (max_iter) or scale the data as shown in:\n",
      "    https://scikit-learn.org/stable/modules/preprocessing.html\n",
      "Please also refer to the documentation for alternative solver options:\n",
      "    https://scikit-learn.org/stable/modules/linear_model.html#logistic-regression\n",
      "  n_iter_i = _check_optimize_result(\n",
      "C:\\ProgramData\\Anaconda3\\lib\\site-packages\\sklearn\\linear_model\\_logistic.py:762: ConvergenceWarning: lbfgs failed to converge (status=1):\n",
      "STOP: TOTAL NO. of ITERATIONS REACHED LIMIT.\n",
      "\n",
      "Increase the number of iterations (max_iter) or scale the data as shown in:\n",
      "    https://scikit-learn.org/stable/modules/preprocessing.html\n",
      "Please also refer to the documentation for alternative solver options:\n",
      "    https://scikit-learn.org/stable/modules/linear_model.html#logistic-regression\n",
      "  n_iter_i = _check_optimize_result(\n",
      "C:\\ProgramData\\Anaconda3\\lib\\site-packages\\sklearn\\linear_model\\_logistic.py:762: ConvergenceWarning: lbfgs failed to converge (status=1):\n",
      "STOP: TOTAL NO. of ITERATIONS REACHED LIMIT.\n",
      "\n",
      "Increase the number of iterations (max_iter) or scale the data as shown in:\n",
      "    https://scikit-learn.org/stable/modules/preprocessing.html\n",
      "Please also refer to the documentation for alternative solver options:\n",
      "    https://scikit-learn.org/stable/modules/linear_model.html#logistic-regression\n",
      "  n_iter_i = _check_optimize_result(\n",
      "C:\\ProgramData\\Anaconda3\\lib\\site-packages\\sklearn\\linear_model\\_logistic.py:762: ConvergenceWarning: lbfgs failed to converge (status=1):\n",
      "STOP: TOTAL NO. of ITERATIONS REACHED LIMIT.\n",
      "\n",
      "Increase the number of iterations (max_iter) or scale the data as shown in:\n",
      "    https://scikit-learn.org/stable/modules/preprocessing.html\n",
      "Please also refer to the documentation for alternative solver options:\n",
      "    https://scikit-learn.org/stable/modules/linear_model.html#logistic-regression\n",
      "  n_iter_i = _check_optimize_result(\n"
     ]
    }
   ],
   "source": [
    "LR_accuracy_list = cross_val_score(my_logistic_regression, X, y, cv=10, scoring='accuracy')"
   ]
  },
  {
   "cell_type": "code",
   "execution_count": 31,
   "metadata": {
    "id": "byhljQ-zj3Io"
   },
   "outputs": [],
   "source": [
    "LR_accuracy = LR_accuracy_list.mean()"
   ]
  },
  {
   "cell_type": "code",
   "execution_count": 32,
   "metadata": {
    "colab": {
     "base_uri": "https://localhost:8080/"
    },
    "id": "uKBUoMWrj5_S",
    "outputId": "1d8639d2-5f4d-43ab-b9b0-e4290351b81e"
   },
   "outputs": [
    {
     "name": "stdout",
     "output_type": "stream",
     "text": [
      "0.926839826839827\n"
     ]
    }
   ],
   "source": [
    "print(LR_accuracy)"
   ]
  },
  {
   "cell_type": "markdown",
   "metadata": {
    "id": "R_efUa9H-qS0"
   },
   "source": [
    "# Random Forest"
   ]
  },
  {
   "cell_type": "code",
   "execution_count": 33,
   "metadata": {
    "id": "qwoU0Dcz-qS0"
   },
   "outputs": [],
   "source": [
    "from sklearn.ensemble import RandomForestClassifier\n",
    "\n",
    "\n",
    "# Is n_estimators specifiyng number of tree we want to build?\n",
    "my_RandomForest = RandomForestClassifier(n_estimators = 28, bootstrap = True, random_state=5)"
   ]
  },
  {
   "cell_type": "code",
   "execution_count": 34,
   "metadata": {
    "colab": {
     "base_uri": "https://localhost:8080/"
    },
    "id": "ChsTmnKk-qS0",
    "outputId": "1d58bf3b-771f-47de-972a-ef7b2e7f8d17"
   },
   "outputs": [
    {
     "data": {
      "text/plain": [
       "0.9390862944162437"
      ]
     },
     "execution_count": 34,
     "metadata": {},
     "output_type": "execute_result"
    }
   ],
   "source": [
    "my_RandomForest.fit(X_train, y_train)\n",
    "\n",
    "y_pred = my_RandomForest.predict(X_test)\n",
    "\n",
    "accuracy_score(y_test, y_pred)"
   ]
  },
  {
   "cell_type": "markdown",
   "metadata": {
    "id": "CouyQtBClqjh"
   },
   "source": [
    "### Cross Validation for Random Forest"
   ]
  },
  {
   "cell_type": "code",
   "execution_count": 35,
   "metadata": {
    "id": "BQcDXhQ_lv4h"
   },
   "outputs": [],
   "source": [
    "RF_accuracy_list = cross_val_score(my_RandomForest, X, y, cv=10, scoring='accuracy')"
   ]
  },
  {
   "cell_type": "code",
   "execution_count": 36,
   "metadata": {
    "id": "4WcU7TzpmEJT"
   },
   "outputs": [],
   "source": [
    "RF_Accuracy = RF_accuracy_list.mean()"
   ]
  },
  {
   "cell_type": "code",
   "execution_count": 37,
   "metadata": {
    "colab": {
     "base_uri": "https://localhost:8080/"
    },
    "id": "PM1SoprJmM37",
    "outputId": "b5dd2ac0-e6db-4dc1-ffed-1ce79f483773"
   },
   "outputs": [
    {
     "name": "stdout",
     "output_type": "stream",
     "text": [
      "0.9369511440940013\n"
     ]
    }
   ],
   "source": [
    "print(RF_Accuracy)"
   ]
  },
  {
   "cell_type": "markdown",
   "metadata": {
    "id": "rQkF0lOq-qS0"
   },
   "source": [
    "# Area Under Curve for ROC (Logistic Regression)"
   ]
  },
  {
   "cell_type": "code",
   "execution_count": 38,
   "metadata": {
    "id": "ZtCJLa2rpYIQ"
   },
   "outputs": [],
   "source": [
    "y_predict_LR = my_logistic_regression.predict(X_test)\n",
    "\n",
    "y_predict_LR_probability = my_logistic_regression.predict_proba(X_test)"
   ]
  },
  {
   "cell_type": "code",
   "execution_count": 39,
   "metadata": {
    "id": "r2P6DUPB-qS0"
   },
   "outputs": [],
   "source": [
    "from sklearn import metrics"
   ]
  },
  {
   "cell_type": "code",
   "execution_count": 40,
   "metadata": {
    "colab": {
     "base_uri": "https://localhost:8080/"
    },
    "id": "OhaG4o5i-qS0",
    "outputId": "55c7b944-e6b3-4bc2-fd66-6fa76a96ecec"
   },
   "outputs": [
    {
     "name": "stdout",
     "output_type": "stream",
     "text": [
      "[0.         0.         0.         0.         0.         0.\n",
      " 0.         0.05882353 0.05882353 0.12745098 0.12745098 0.14705882\n",
      " 0.14705882 0.15686275 0.15686275 0.17647059 0.17647059 0.23529412\n",
      " 0.23529412 0.3627451  0.3627451  0.61764706 0.61764706 1.        ]\n",
      "[0.         0.01052632 0.08421053 0.10526316 0.17894737 0.2\n",
      " 0.90526316 0.90526316 0.91578947 0.91578947 0.92631579 0.92631579\n",
      " 0.94736842 0.94736842 0.95789474 0.95789474 0.96842105 0.96842105\n",
      " 0.97894737 0.97894737 0.98947368 0.98947368 1.         1.        ]\n"
     ]
    },
    {
     "data": {
      "text/plain": [
       "array([2.00000000e+00, 1.00000000e+00, 1.00000000e+00, 1.00000000e+00,\n",
       "       9.99999997e-01, 9.99999995e-01, 8.80989759e-01, 4.37939670e-01,\n",
       "       4.11920455e-01, 2.13586281e-01, 2.08423294e-01, 1.93839512e-01,\n",
       "       1.83231570e-01, 1.79845905e-01, 1.78963309e-01, 1.34953508e-01,\n",
       "       1.31193683e-01, 1.15312217e-01, 1.14492989e-01, 7.57874142e-02,\n",
       "       7.28422358e-02, 3.32653606e-02, 3.13149844e-02, 8.41763115e-04])"
      ]
     },
     "execution_count": 40,
     "metadata": {},
     "output_type": "execute_result"
    }
   ],
   "source": [
    "fpr, tpr, thresholds = metrics.roc_curve(y_test, y_predict_LR_probability[:,1], pos_label=1)\n",
    "print(fpr)\n",
    "print(tpr)\n",
    "thresholds"
   ]
  },
  {
   "cell_type": "code",
   "execution_count": 41,
   "metadata": {
    "colab": {
     "base_uri": "https://localhost:8080/"
    },
    "id": "Vn72Jn0R-qS0",
    "outputId": "6b9e8afa-b0f1-42a0-ed30-6c64a077a9c3"
   },
   "outputs": [
    {
     "name": "stdout",
     "output_type": "stream",
     "text": [
      "0.9786377708978329\n"
     ]
    }
   ],
   "source": [
    "AUC = metrics.auc(fpr, tpr)\n",
    "print(AUC)"
   ]
  },
  {
   "cell_type": "code",
   "execution_count": 42,
   "metadata": {
    "colab": {
     "base_uri": "https://localhost:8080/",
     "height": 295
    },
    "id": "oOtmwK5S-qS0",
    "outputId": "03b244db-206a-427d-d9e0-6249f4226157"
   },
   "outputs": [
    {
     "data": {
      "image/png": "[encoded data removed]",
      "text/plain": [
       "<Figure size 432x288 with 1 Axes>"
      ]
     },
     "metadata": {
      "needs_background": "light"
     },
     "output_type": "display_data"
    }
   ],
   "source": [
    "import matplotlib.pyplot as plt\n",
    "\n",
    "%matplotlib inline\n",
    "\n",
    "plt.figure()\n",
    "\n",
    "# Roc Curve:\n",
    "#2 floating point\n",
    "plt.plot(fpr, tpr, color='red', lw=2,label='ROC Curve (area = %0.2f)' % AUC)\n",
    "\n",
    "\n",
    "\n",
    "# Defining The Range of X-Axis and Y-Axis:\n",
    "#shift line  to left\n",
    "plt.xlim([-0.005, 1.005])\n",
    "plt.ylim([0.0, 1.01])\n",
    "\n",
    "# Labels, Title, Legend:\n",
    "plt.xlabel('False Positive Rate')\n",
    "plt.ylabel('True Positive Rate')\n",
    "plt.title('Receiver operating characteristic')\n",
    "plt.legend(loc=\"lower right\")\n",
    "\n",
    "plt.show()"
   ]
  },
  {
   "cell_type": "markdown",
   "metadata": {
    "id": "VA7hnL14qCv5"
   },
   "source": [
    "# Area Under Curve for ROC (KNN)"
   ]
  },
  {
   "cell_type": "code",
   "execution_count": 43,
   "metadata": {
    "id": "ljfdX-XVqF4c"
   },
   "outputs": [],
   "source": [
    "y_predict_KNN = knn.predict(X_test)\n",
    "\n",
    "y_predict_KNN_probability = knn.predict_proba(X_test)"
   ]
  },
  {
   "cell_type": "code",
   "execution_count": 44,
   "metadata": {
    "colab": {
     "base_uri": "https://localhost:8080/"
    },
    "id": "f3_DiEGPqWzg",
    "outputId": "d3b252e7-6918-4805-cd9b-4f9093f8f3e8"
   },
   "outputs": [
    {
     "name": "stdout",
     "output_type": "stream",
     "text": [
      "[0.         0.03921569 0.07843137 0.1372549  1.        ]\n",
      "[0.         0.75789474 0.89473684 0.93684211 1.        ]\n"
     ]
    },
    {
     "data": {
      "text/plain": [
       "array([2.        , 1.        , 0.66666667, 0.33333333, 0.        ])"
      ]
     },
     "execution_count": 44,
     "metadata": {},
     "output_type": "execute_result"
    }
   ],
   "source": [
    "fpr, tpr, thresholds = metrics.roc_curve(y_test, y_predict_KNN_probability[:,1], pos_label=1)\n",
    "print(fpr)\n",
    "print(tpr)\n",
    "thresholds"
   ]
  },
  {
   "cell_type": "code",
   "execution_count": 45,
   "metadata": {
    "colab": {
     "base_uri": "https://localhost:8080/"
    },
    "id": "os25rz_Qqi5e",
    "outputId": "afdb8799-eaea-413a-b1a7-1352380d4e2a"
   },
   "outputs": [
    {
     "name": "stdout",
     "output_type": "stream",
     "text": [
      "0.9366357069143447\n"
     ]
    }
   ],
   "source": [
    "AUC = metrics.auc(fpr, tpr)\n",
    "print(AUC)"
   ]
  },
  {
   "cell_type": "code",
   "execution_count": 46,
   "metadata": {
    "colab": {
     "base_uri": "https://localhost:8080/",
     "height": 295
    },
    "id": "FNFD8t-Aqo3R",
    "outputId": "9b21c384-5a6a-47bd-b565-6ab6136af468"
   },
   "outputs": [
    {
     "data": {
      "image/png": "[encoded data removed]",
      "text/plain": [
       "<Figure size 432x288 with 1 Axes>"
      ]
     },
     "metadata": {
      "needs_background": "light"
     },
     "output_type": "display_data"
    }
   ],
   "source": [
    "import matplotlib.pyplot as plt\n",
    "\n",
    "%matplotlib inline\n",
    "\n",
    "plt.figure()\n",
    "\n",
    "# Roc Curve:\n",
    "#2 floating point\n",
    "plt.plot(fpr, tpr, color='red', lw=2,label='ROC Curve (area = %0.2f)' % AUC)\n",
    "\n",
    "\n",
    "\n",
    "# Defining The Range of X-Axis and Y-Axis:\n",
    "#shift line  to left\n",
    "plt.xlim([-0.005, 1.005])\n",
    "plt.ylim([0.0, 1.01])\n",
    "\n",
    "# Labels, Title, Legend:\n",
    "plt.xlabel('False Positive Rate')\n",
    "plt.ylabel('True Positive Rate')\n",
    "plt.title('Receiver operating characteristic')\n",
    "plt.legend(loc=\"lower right\")\n",
    "\n",
    "plt.show()"
   ]
  },
  {
   "cell_type": "markdown",
   "metadata": {
    "id": "jzi1br5PuIcs"
   },
   "source": [
    "# Area Under Curve for ROC (Decision Tree)"
   ]
  },
  {
   "cell_type": "code",
   "execution_count": 47,
   "metadata": {
    "id": "u2voOEhnuMti"
   },
   "outputs": [],
   "source": [
    "y_predict_DT = my_decisiontree.predict(X_test)\n",
    "\n",
    "y_predict_DT_probability = my_decisiontree.predict_proba(X_test)"
   ]
  },
  {
   "cell_type": "code",
   "execution_count": 48,
   "metadata": {
    "colab": {
     "base_uri": "https://localhost:8080/"
    },
    "id": "DjpvXyiFuaDf",
    "outputId": "613644a9-0e4d-43bc-8cb5-d51a60e31a65"
   },
   "outputs": [
    {
     "name": "stdout",
     "output_type": "stream",
     "text": [
      "[0.         0.08823529 1.        ]\n",
      "[0.         0.91578947 1.        ]\n"
     ]
    },
    {
     "data": {
      "text/plain": [
       "array([2., 1., 0.])"
      ]
     },
     "execution_count": 48,
     "metadata": {},
     "output_type": "execute_result"
    }
   ],
   "source": [
    "fpr, tpr, thresholds = metrics.roc_curve(y_test, y_predict_DT_probability[:,1], pos_label=1)\n",
    "print(fpr)\n",
    "print(tpr)\n",
    "thresholds"
   ]
  },
  {
   "cell_type": "code",
   "execution_count": 49,
   "metadata": {
    "colab": {
     "base_uri": "https://localhost:8080/"
    },
    "id": "1yuVxxQ4uhyV",
    "outputId": "a2e74584-3241-414d-f391-cdecc70cf2eb"
   },
   "outputs": [
    {
     "name": "stdout",
     "output_type": "stream",
     "text": [
      "0.9137770897832816\n"
     ]
    }
   ],
   "source": [
    "AUC = metrics.auc(fpr, tpr)\n",
    "print(AUC)"
   ]
  },
  {
   "cell_type": "code",
   "execution_count": 50,
   "metadata": {
    "colab": {
     "base_uri": "https://localhost:8080/",
     "height": 295
    },
    "id": "CHbUqS9ouo9g",
    "outputId": "d826908a-44d3-4908-f9d9-5b28b8bad76e"
   },
   "outputs": [
    {
     "data": {
      "image/png": "[encoded data removed]",
      "text/plain": [
       "<Figure size 432x288 with 1 Axes>"
      ]
     },
     "metadata": {
      "needs_background": "light"
     },
     "output_type": "display_data"
    }
   ],
   "source": [
    "import matplotlib.pyplot as plt\n",
    "\n",
    "%matplotlib inline\n",
    "\n",
    "plt.figure()\n",
    "\n",
    "# Roc Curve:\n",
    "#2 floating point\n",
    "plt.plot(fpr, tpr, color='red', lw=2,label='ROC Curve (area = %0.2f)' % AUC)\n",
    "\n",
    "\n",
    "\n",
    "# Defining The Range of X-Axis and Y-Axis:\n",
    "#shift line  to left\n",
    "plt.xlim([-0.005, 1.005])\n",
    "plt.ylim([0.0, 1.01])\n",
    "\n",
    "# Labels, Title, Legend:\n",
    "plt.xlabel('False Positive Rate')\n",
    "plt.ylabel('True Positive Rate')\n",
    "plt.title('Receiver operating characteristic')\n",
    "plt.legend(loc=\"lower right\")\n",
    "\n",
    "plt.show()"
   ]
  },
  {
   "cell_type": "markdown",
   "metadata": {
    "id": "8i2i9z09vQ2n"
   },
   "source": [
    "# Area Under Curve for ROC (Random Forest)"
   ]
  },
  {
   "cell_type": "code",
   "execution_count": 51,
   "metadata": {
    "id": "flv-UXhKvU4M"
   },
   "outputs": [],
   "source": [
    "y_predict_RF = my_RandomForest.predict(X_test)\n",
    "\n",
    "y_predict_RF_probability = my_RandomForest.predict_proba(X_test)"
   ]
  },
  {
   "cell_type": "code",
   "execution_count": 52,
   "metadata": {
    "colab": {
     "base_uri": "https://localhost:8080/"
    },
    "id": "0Hk3FjCFvnGS",
    "outputId": "d87a92a1-6d17-4654-dfd6-0d81a9b345b2"
   },
   "outputs": [
    {
     "name": "stdout",
     "output_type": "stream",
     "text": [
      "[0.         0.         0.         0.         0.         0.\n",
      " 0.01960784 0.02941176 0.04901961 0.05882353 0.09803922 0.09803922\n",
      " 0.11764706 0.14705882 0.2254902  0.29411765 0.37254902 0.55882353\n",
      " 0.71568627 1.        ]\n",
      "[0.         0.63157895 0.72631579 0.78947368 0.86315789 0.88421053\n",
      " 0.88421053 0.89473684 0.90526316 0.91578947 0.91578947 0.92631579\n",
      " 0.93684211 0.93684211 0.94736842 0.96842105 0.97894737 0.97894737\n",
      " 0.98947368 1.        ]\n"
     ]
    },
    {
     "data": {
      "text/plain": [
       "array([2.        , 1.        , 0.96428571, 0.92857143, 0.89285714,\n",
       "       0.78571429, 0.5       , 0.46428571, 0.42857143, 0.39285714,\n",
       "       0.32142857, 0.28571429, 0.25      , 0.21428571, 0.17857143,\n",
       "       0.14285714, 0.10714286, 0.07142857, 0.03571429, 0.        ])"
      ]
     },
     "execution_count": 52,
     "metadata": {},
     "output_type": "execute_result"
    }
   ],
   "source": [
    "fpr, tpr, thresholds = metrics.roc_curve(y_test, y_predict_RF_probability[:,1], pos_label=1)\n",
    "print(fpr)\n",
    "print(tpr)\n",
    "thresholds"
   ]
  },
  {
   "cell_type": "code",
   "execution_count": 53,
   "metadata": {
    "colab": {
     "base_uri": "https://localhost:8080/"
    },
    "id": "rWFmOeMnvrLf",
    "outputId": "509a7bea-4a6d-4a4a-e38d-40e281606de4"
   },
   "outputs": [
    {
     "name": "stdout",
     "output_type": "stream",
     "text": [
      "0.9699174406604747\n"
     ]
    }
   ],
   "source": [
    "AUC = metrics.auc(fpr, tpr)\n",
    "print(AUC)"
   ]
  },
  {
   "cell_type": "code",
   "execution_count": 54,
   "metadata": {
    "colab": {
     "base_uri": "https://localhost:8080/",
     "height": 295
    },
    "id": "Y0W8DrJZvu09",
    "outputId": "45fd47e6-da7d-42d6-f6f0-f78f5740c6d1"
   },
   "outputs": [
    {
     "data": {
      "image/png": "[encoded data removed]",
      "text/plain": [
       "<Figure size 432x288 with 1 Axes>"
      ]
     },
     "metadata": {
      "needs_background": "light"
     },
     "output_type": "display_data"
    }
   ],
   "source": [
    "import matplotlib.pyplot as plt\n",
    "\n",
    "%matplotlib inline\n",
    "\n",
    "plt.figure()\n",
    "\n",
    "# Roc Curve:\n",
    "#2 floating point\n",
    "plt.plot(fpr, tpr, color='red', lw=2,label='ROC Curve (area = %0.2f)' % AUC)\n",
    "\n",
    "\n",
    "\n",
    "# Defining The Range of X-Axis and Y-Axis:\n",
    "#shift line  to left\n",
    "plt.xlim([-0.005, 1.005])\n",
    "plt.ylim([0.0, 1.01])\n",
    "\n",
    "# Labels, Title, Legend:\n",
    "plt.xlabel('False Positive Rate')\n",
    "plt.ylabel('True Positive Rate')\n",
    "plt.title('Receiver operating characteristic')\n",
    "plt.legend(loc=\"lower right\")\n",
    "\n",
    "plt.show()"
   ]
  }
 ],
 "metadata": {
  "colab": {
   "collapsed_sections": [],
   "name": "CreditCard.ipynb",
   "provenance": [],
   "toc_visible": true
  },
  "kernelspec": {
   "display_name": "Python 3",
   "language": "python",
   "name": "python3"
  },
  "language_info": {
   "codemirror_mode": {
    "name": "ipython",
    "version": 3
   },
   "file_extension": ".py",
   "mimetype": "text/x-python",
   "name": "python",
   "nbconvert_exporter": "python",
   "pygments_lexer": "ipython3",
   "version": "3.8.5"
  }
 },
 "nbformat": 4,
 "nbformat_minor": 1
}
